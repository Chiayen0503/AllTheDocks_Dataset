{
 "cells": [
  {
   "cell_type": "code",
   "execution_count": 1,
   "id": "e2bed933",
   "metadata": {},
   "outputs": [
    {
     "name": "stdout",
     "output_type": "stream",
     "text": [
      "['GX020053.csv', 'GX020054.csv', 'GX010056.csv', 'GX030051.csv', 'GX020051.csv', 'GX010052.csv', 'GX060049.csv', 'GX010051.csv', 'GX040055.csv', 'GX050055.csv', 'GX080055.csv', 'GX020049.csv', 'GX070055.csv', 'GX060051.csv', 'GX010053.csv', 'GX060055.csv', 'GX050051.csv', 'GX030055.csv', 'GX010054.csv', 'GX010050.csv', 'GX070051.csv', 'GX040051.csv', 'GX020055.csv', 'GX030049.csv', 'GX030054.csv', 'GX010049.csv', 'GX030052.csv', 'GX070049.csv', 'GX040049.csv', 'GX050049.csv', 'GX010055.csv', 'GX020052.csv']\n"
     ]
    }
   ],
   "source": [
    "import os\n",
    "root = 'data/interpolation'\n",
    "csv_list = os.listdir(root)\n",
    "print(csv_list)"
   ]
  },
  {
   "cell_type": "code",
   "execution_count": null,
   "id": "c18dbd39",
   "metadata": {},
   "outputs": [],
   "source": [
    "\"\"\"\n",
    "Add IRI to interpolation's csvs \n",
    "\"\"\"\n",
    "# import pandas as pd\n",
    "# from utils.calculate_IRI import *\n",
    "\n",
    "# IRI_time_width = 1000 #1000*5 -> 5 seconds per IRI window where IRI covers t-2.5 and t+2.5 period of time \n",
    "# IRI_time_stride= 1\n",
    "\n",
    "# for csv in csv_list:\n",
    "#     path = os.path.join(root, csv)\n",
    "#     data = pd.read_csv(path)\n",
    "#     \"\"\"\n",
    "#     Get iri list\n",
    "#     \"\"\"\n",
    "#     times_list = (data['Milliseconds'].copy())/1000 #to sec\n",
    "#     times_list = times_list.tolist()\n",
    "#     a_list = data['AcclX'].copy()\n",
    "#     s_list = data['Speed3D'].tolist()\n",
    "#     out_iri_list, out_times_index_list = IRI_sliding_window(times_list, a_list, s_list, IRI_time_width, IRI_time_stride)\n",
    "#     \"\"\"\n",
    "#     Save iri to back to csv file\n",
    "#     \"\"\"\n",
    "#     data['IRI'] = out_iri_list\n",
    "#     data.to_csv(path, index=False)  \n",
    "    \n"
   ]
  },
  {
   "cell_type": "code",
   "execution_count": 2,
   "id": "19f1876e",
   "metadata": {},
   "outputs": [],
   "source": [
    "\"\"\"\n",
    "To do: cast off IRI where speed3d<1\n",
    "\"\"\"\n",
    "import pandas as pd\n",
    "from utils.calculate_IRI import *\n",
    "\n",
    "for csv in csv_list:\n",
    "    path = os.path.join(root, csv)\n",
    "    data = pd.read_csv(path)\n",
    "    \n",
    "    index_list = data.index[data['Speed3D']<1].tolist()\n",
    "    reset_out_iri_list = data['IRI'].tolist()\n",
    "    for i in index_list:\n",
    "        reset_out_iri_list[i]=0.0\n",
    "    \n",
    "    data['preprocessed_IRI'] = reset_out_iri_list\n",
    "    data.to_csv(path, index=False)"
   ]
  },
  {
   "cell_type": "code",
   "execution_count": null,
   "id": "ed3fede0",
   "metadata": {},
   "outputs": [],
   "source": []
  }
 ],
 "metadata": {
  "kernelspec": {
   "display_name": "jaad",
   "language": "python",
   "name": "jaad"
  },
  "language_info": {
   "codemirror_mode": {
    "name": "ipython",
    "version": 3
   },
   "file_extension": ".py",
   "mimetype": "text/x-python",
   "name": "python",
   "nbconvert_exporter": "python",
   "pygments_lexer": "ipython3",
   "version": "3.8.5"
  }
 },
 "nbformat": 4,
 "nbformat_minor": 5
}
