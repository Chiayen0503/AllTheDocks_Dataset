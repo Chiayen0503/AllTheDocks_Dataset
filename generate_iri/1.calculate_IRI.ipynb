{
 "cells": [
  {
   "cell_type": "code",
   "execution_count": 1,
   "id": "c00ea03c",
   "metadata": {},
   "outputs": [],
   "source": [
    "import os\n",
    "import numpy as np\n",
    "import pandas as pd\n",
    "\n",
    "ID = 'GX010049'\n",
    "preprocessed_path = 'data/interpolation/{0}.csv'.format(ID)\n",
    "data = pd.read_csv(preprocessed_path)"
   ]
  },
  {
   "cell_type": "code",
   "execution_count": 2,
   "id": "13123855",
   "metadata": {},
   "outputs": [
    {
     "data": {
      "text/html": [
       "<div>\n",
       "<style scoped>\n",
       "    .dataframe tbody tr th:only-of-type {\n",
       "        vertical-align: middle;\n",
       "    }\n",
       "\n",
       "    .dataframe tbody tr th {\n",
       "        vertical-align: top;\n",
       "    }\n",
       "\n",
       "    .dataframe thead th {\n",
       "        text-align: right;\n",
       "    }\n",
       "</style>\n",
       "<table border=\"1\" class=\"dataframe\">\n",
       "  <thead>\n",
       "    <tr style=\"text-align: right;\">\n",
       "      <th></th>\n",
       "      <th>Milliseconds</th>\n",
       "      <th>AcclX</th>\n",
       "      <th>AcclY</th>\n",
       "      <th>AcclZ</th>\n",
       "      <th>Latitude</th>\n",
       "      <th>Longitude</th>\n",
       "      <th>Altitude</th>\n",
       "      <th>Speed2D</th>\n",
       "      <th>Speed3D</th>\n",
       "      <th>GyroX</th>\n",
       "      <th>GyroY</th>\n",
       "      <th>GyroZ</th>\n",
       "      <th>Accl3D</th>\n",
       "    </tr>\n",
       "  </thead>\n",
       "  <tbody>\n",
       "    <tr>\n",
       "      <th>0</th>\n",
       "      <td>0.000000</td>\n",
       "      <td>-0.468521</td>\n",
       "      <td>1.004796</td>\n",
       "      <td>0.282974</td>\n",
       "      <td>51.514325</td>\n",
       "      <td>-0.118190</td>\n",
       "      <td>55.942000</td>\n",
       "      <td>0.64</td>\n",
       "      <td>0.64</td>\n",
       "      <td>-0.127796</td>\n",
       "      <td>0.010650</td>\n",
       "      <td>0.135250</td>\n",
       "      <td>1.144203</td>\n",
       "    </tr>\n",
       "    <tr>\n",
       "      <th>1</th>\n",
       "      <td>5.076142</td>\n",
       "      <td>-0.327034</td>\n",
       "      <td>0.942446</td>\n",
       "      <td>0.340528</td>\n",
       "      <td>51.514325</td>\n",
       "      <td>-0.118189</td>\n",
       "      <td>55.941961</td>\n",
       "      <td>0.64</td>\n",
       "      <td>0.64</td>\n",
       "      <td>-0.128860</td>\n",
       "      <td>0.019169</td>\n",
       "      <td>0.148030</td>\n",
       "      <td>1.054094</td>\n",
       "    </tr>\n",
       "    <tr>\n",
       "      <th>2</th>\n",
       "      <td>10.152284</td>\n",
       "      <td>-0.192741</td>\n",
       "      <td>0.760192</td>\n",
       "      <td>0.326139</td>\n",
       "      <td>51.514325</td>\n",
       "      <td>-0.118189</td>\n",
       "      <td>55.941923</td>\n",
       "      <td>0.64</td>\n",
       "      <td>0.64</td>\n",
       "      <td>-0.128860</td>\n",
       "      <td>0.021299</td>\n",
       "      <td>0.150160</td>\n",
       "      <td>0.849357</td>\n",
       "    </tr>\n",
       "    <tr>\n",
       "      <th>3</th>\n",
       "      <td>15.228426</td>\n",
       "      <td>-0.183149</td>\n",
       "      <td>0.541966</td>\n",
       "      <td>0.282974</td>\n",
       "      <td>51.514325</td>\n",
       "      <td>-0.118189</td>\n",
       "      <td>55.941884</td>\n",
       "      <td>0.64</td>\n",
       "      <td>0.64</td>\n",
       "      <td>-0.133120</td>\n",
       "      <td>0.021299</td>\n",
       "      <td>0.144835</td>\n",
       "      <td>0.638236</td>\n",
       "    </tr>\n",
       "    <tr>\n",
       "      <th>4</th>\n",
       "      <td>20.304569</td>\n",
       "      <td>-0.022477</td>\n",
       "      <td>0.376499</td>\n",
       "      <td>0.273381</td>\n",
       "      <td>51.514325</td>\n",
       "      <td>-0.118189</td>\n",
       "      <td>55.941845</td>\n",
       "      <td>0.64</td>\n",
       "      <td>0.64</td>\n",
       "      <td>-0.140575</td>\n",
       "      <td>0.018104</td>\n",
       "      <td>0.139510</td>\n",
       "      <td>0.465826</td>\n",
       "    </tr>\n",
       "  </tbody>\n",
       "</table>\n",
       "</div>"
      ],
      "text/plain": [
       "   Milliseconds     AcclX     AcclY     AcclZ   Latitude  Longitude  \\\n",
       "0      0.000000 -0.468521  1.004796  0.282974  51.514325  -0.118190   \n",
       "1      5.076142 -0.327034  0.942446  0.340528  51.514325  -0.118189   \n",
       "2     10.152284 -0.192741  0.760192  0.326139  51.514325  -0.118189   \n",
       "3     15.228426 -0.183149  0.541966  0.282974  51.514325  -0.118189   \n",
       "4     20.304569 -0.022477  0.376499  0.273381  51.514325  -0.118189   \n",
       "\n",
       "    Altitude  Speed2D  Speed3D     GyroX     GyroY     GyroZ    Accl3D  \n",
       "0  55.942000     0.64     0.64 -0.127796  0.010650  0.135250  1.144203  \n",
       "1  55.941961     0.64     0.64 -0.128860  0.019169  0.148030  1.054094  \n",
       "2  55.941923     0.64     0.64 -0.128860  0.021299  0.150160  0.849357  \n",
       "3  55.941884     0.64     0.64 -0.133120  0.021299  0.144835  0.638236  \n",
       "4  55.941845     0.64     0.64 -0.140575  0.018104  0.139510  0.465826  "
      ]
     },
     "execution_count": 2,
     "metadata": {},
     "output_type": "execute_result"
    }
   ],
   "source": [
    "data.head()"
   ]
  },
  {
   "cell_type": "code",
   "execution_count": 3,
   "id": "819166a9",
   "metadata": {},
   "outputs": [
    {
     "name": "stdout",
     "output_type": "stream",
     "text": [
      "131.19853568077087\n"
     ]
    }
   ],
   "source": [
    "from utils.calculate_IRI import *\n",
    "import time\n",
    "\n",
    "times_list = (data['Milliseconds'].copy())/1000 #to sec\n",
    "times_list = times_list.tolist()\n",
    "\n",
    "a_list = data['AcclX'].copy()\n",
    "\n",
    "s_list = data['Speed3D'].tolist()\n",
    "\n",
    "IRI_time_width = 1000 #1000*5 -> 5 seconds per IRI window where IRI covers t-2.5 and t+2.5 period of time \n",
    "IRI_time_stride= 1\n",
    "out_iri_list, out_times_index_list = IRI_sliding_window(times_list, a_list, s_list, IRI_time_width, IRI_time_stride)\n",
    "\n"
   ]
  },
  {
   "cell_type": "code",
   "execution_count": 5,
   "id": "2925c7d1",
   "metadata": {},
   "outputs": [
    {
     "data": {
      "text/plain": [
       "(139148, 139148)"
      ]
     },
     "execution_count": 5,
     "metadata": {},
     "output_type": "execute_result"
    }
   ],
   "source": [
    "len(out_iri_list), len(times_list)"
   ]
  },
  {
   "cell_type": "code",
   "execution_count": 3,
   "id": "c564a2e9",
   "metadata": {},
   "outputs": [],
   "source": [
    "index_list = data.index[data['Speed3D']<1].tolist()\n",
    "reset_out_iri_list = out_iri_list.copy()\n",
    "for i in index_list:\n",
    "    reset_out_iri_list[i]=0.0"
   ]
  },
  {
   "cell_type": "code",
   "execution_count": 6,
   "id": "c6fbefb8",
   "metadata": {},
   "outputs": [
    {
     "name": "stderr",
     "output_type": "stream",
     "text": [
      "The PostScript backend does not support transparency; partially transparent artists will be rendered opaque.\n"
     ]
    },
    {
     "data": {
      "image/png": "[encoded data removed]",
      "text/plain": [
       "<Figure size 432x288 with 1 Axes>"
      ]
     },
     "metadata": {
      "needs_background": "light"
     },
     "output_type": "display_data"
    }
   ],
   "source": [
    "import matplotlib.pyplot as plt\n",
    "from scipy.signal import find_peaks\n",
    "x = np.array(reset_out_iri_list)\n",
    "thres = 1\n",
    "times_list = np.array(times_list)\n",
    "peaks, _ = find_peaks(x, height=thres)\n",
    "\n",
    "plt.plot(times_list, reset_out_iri_list, color='orange',label='Preprocessed IRI')\n",
    "plt.plot(times_list[peaks], x[peaks], \"o\", color='red', label='IRI>{0}, bump'.format(str(thres)))\n",
    "plt.plot([72.5, 635], [0.8, 0.8], \"^\", color='green', label='1>IRI>0.5, head turning')\n",
    "plt.xlabel('Time (s)')\n",
    "plt.ylabel('IRI index')\n",
    "plt.legend()\n",
    "# plt.show()\n",
    "plt.savefig('IRI_thres_update.eps', format='eps')"
   ]
  },
  {
   "cell_type": "code",
   "execution_count": 7,
   "id": "a856ef55",
   "metadata": {
    "scrolled": true
   },
   "outputs": [
    {
     "name": "stderr",
     "output_type": "stream",
     "text": [
      "The PostScript backend does not support transparency; partially transparent artists will be rendered opaque.\n"
     ]
    },
    {
     "data": {
      "image/png": "[encoded data removed]",
      "text/plain": [
       "<Figure size 432x288 with 1 Axes>"
      ]
     },
     "metadata": {
      "needs_background": "light"
     },
     "output_type": "display_data"
    }
   ],
   "source": [
    "# plt.plot(times_list, reset_out_iri_list, label='preprocessed IRI (IRI=0 when 3Dspeed<1m/s)')\n",
    "plt.plot(times_list, out_iri_list, label='Raw IRI')\n",
    "plt.plot(times_list, reset_out_iri_list, label='Preprocessed IRI')\n",
    "# plt.plot(times_list[peaks], x[peaks], \"o\", color='red', label='peaks')\n",
    "# plt.plot(times_list[peaks], x[peaks], \"o\", color='red', label='IRI>{0}, bump'.format(str(thres)))\n",
    "# plt.plot([72.5, 635], [0.8, 0.8], \"^\", color='green', label='1>IRI>0.5, head turning')\n",
    "plt.xlabel('Time (s)')\n",
    "plt.ylabel('IRI index')\n",
    "plt.legend()\n",
    "# plt.show()\n",
    "plt.savefig('explain_IRI_disadvantages_update.eps', format='eps')"
   ]
  },
  {
   "cell_type": "code",
   "execution_count": 6,
   "id": "800101c9",
   "metadata": {},
   "outputs": [],
   "source": [
    "def convert(seconds):\n",
    "    seconds = seconds % (24 * 3600)\n",
    "    hour = seconds // 3600\n",
    "    seconds %= 3600\n",
    "    minutes = seconds // 60\n",
    "    seconds %= 60\n",
    "     \n",
    "    return \"%d:%02d:%02d\" % (hour, minutes, seconds)"
   ]
  },
  {
   "cell_type": "code",
   "execution_count": 20,
   "id": "2be9f54e",
   "metadata": {},
   "outputs": [
    {
     "name": "stdout",
     "output_type": "stream",
     "text": [
      "13.227791878172589\n",
      "15.065659898477156\n",
      "15.598807106598985\n",
      "15.654644670050763\n",
      "15.812005076142132\n",
      "16.11149746192893\n",
      "16.223172588832487\n",
      "16.791852791878174\n",
      "16.802005076142134\n",
      "16.827385786802033\n",
      "16.873071065989848\n",
      "16.99489847715736\n",
      "19.131421319796956\n",
      "19.7102538071066\n",
      "20.121421319796955\n",
      "20.395454545454545\n",
      "290.35604060913704\n",
      "290.5489340101523\n",
      "290.6861421319797\n",
      "290.7369035532995\n",
      "290.7775126903553\n",
      "290.93487309644667\n",
      "291.1379187817259\n",
      "291.23944162436544\n",
      "291.4577157360406\n",
      "291.7624365482234\n"
     ]
    },
    {
     "data": {
      "text/plain": [
       "{'0:00:13', '0:00:15', '0:00:16', '0:00:19', '0:00:20', '0:04:50', '0:04:51'}"
      ]
     },
     "execution_count": 20,
     "metadata": {},
     "output_type": "execute_result"
    }
   ],
   "source": [
    "n_list = np.array(times_list)[peaks].tolist()\n",
    "new_n_list = []\n",
    "for n in n_list:\n",
    "    new_n_list.append(convert(n))\n",
    "    print(n)\n",
    "set(new_n_list)"
   ]
  },
  {
   "cell_type": "code",
   "execution_count": 25,
   "id": "44946f8d",
   "metadata": {},
   "outputs": [
    {
     "data": {
      "text/plain": [
       "array([ 2337,  2703,  2810,  2821,  2852,  2911,  2933,  3047,  3049,\n",
       "        3054,  3063,  3087,  3501,  3617,  3698,  3754, 57108, 57146,\n",
       "       57175, 57185, 57193, 57224, 57264, 57284, 57327, 57389])"
      ]
     },
     "execution_count": 25,
     "metadata": {},
     "output_type": "execute_result"
    }
   ],
   "source": [
    "peaks"
   ]
  },
  {
   "cell_type": "code",
   "execution_count": 28,
   "id": "3e3b94ac",
   "metadata": {},
   "outputs": [
    {
     "data": {
      "text/plain": [
       "285.99078680203047"
      ]
     },
     "execution_count": 28,
     "metadata": {},
     "output_type": "execute_result"
    }
   ],
   "source": [
    "times_list[56250]"
   ]
  },
  {
   "cell_type": "code",
   "execution_count": 24,
   "id": "33239dd7",
   "metadata": {},
   "outputs": [
    {
     "data": {
      "text/plain": [
       "'0:04:46'"
      ]
     },
     "execution_count": 24,
     "metadata": {},
     "output_type": "execute_result"
    }
   ],
   "source": [
    "convert(286)"
   ]
  }
 ],
 "metadata": {
  "kernelspec": {
   "display_name": "jaad",
   "language": "python",
   "name": "jaad"
  },
  "language_info": {
   "codemirror_mode": {
    "name": "ipython",
    "version": 3
   },
   "file_extension": ".py",
   "mimetype": "text/x-python",
   "name": "python",
   "nbconvert_exporter": "python",
   "pygments_lexer": "ipython3",
   "version": "3.8.5"
  }
 },
 "nbformat": 4,
 "nbformat_minor": 5
}
